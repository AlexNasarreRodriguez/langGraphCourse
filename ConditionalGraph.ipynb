{
 "cells": [
  {
   "cell_type": "code",
   "execution_count": null,
   "id": "1642f67b",
   "metadata": {},
   "outputs": [],
   "source": [
    "from typing import List,TypedDict\n",
    "from langgraph.graph import StateGraph,START,END\n",
    "\n",
    "class AgentState(TypedDict): #state schema\n",
    "    number1: int\n",
    "    number2: int\n",
    "    operation: str\n",
    "    finalNumber: int"
   ]
  },
  {
   "cell_type": "code",
   "execution_count": 6,
   "id": "af1bc69f",
   "metadata": {},
   "outputs": [],
   "source": [
    "def adder_node(state: AgentState) -> AgentState:\n",
    "    \n",
    "    state['finalNumber'] = state['number1'] + state['number2']\n",
    "    return state\n",
    "\n",
    "def subtractor_node(state: AgentState) -> AgentState:\n",
    "    \n",
    "    state['finalNumber'] = state['number1'] - state['number2']\n",
    "    return state\n",
    "\n",
    "def decider(state: AgentState) -> AgentState:\n",
    "    \n",
    "    if state['operation'] == '+':\n",
    "        return 'addition'\n",
    "    elif state['operation'] == '-':\n",
    "        return 'subtraction'"
   ]
  },
  {
   "cell_type": "code",
   "execution_count": 7,
   "id": "b73f293c",
   "metadata": {},
   "outputs": [],
   "source": [
    "graph = StateGraph(AgentState)\n",
    "\n",
    "graph.add_node('adder', adder_node)\n",
    "graph.add_node('subtractor', subtractor_node)\n",
    "graph.add_node('decider', lambda state:state)\n",
    "\n",
    "graph.add_edge(START, 'decider')\n",
    "\n",
    "graph.add_conditional_edges('decider',decider,{'addition':'adder','subtraction':'subtractor'})\n",
    "\n",
    "graph.add_edge('adder',END)\n",
    "graph.add_edge('subtractor',END)\n",
    "\n",
    "app = graph.compile()"
   ]
  },
  {
   "cell_type": "code",
   "execution_count": 8,
   "id": "7ad57ee8",
   "metadata": {},
   "outputs": [
    {
     "data": {
      "image/png": "[encoded data removed]",
      "text/plain": [
       "<IPython.core.display.Image object>"
      ]
     },
     "metadata": {},
     "output_type": "display_data"
    }
   ],
   "source": [
    "from IPython.display import Image, display\n",
    "display(Image(app.get_graph().draw_mermaid_png()))\n"
   ]
  },
  {
   "cell_type": "code",
   "execution_count": 9,
   "id": "b90ab2ef",
   "metadata": {},
   "outputs": [
    {
     "name": "stdout",
     "output_type": "stream",
     "text": [
      "{'number1': 1, 'number2': 2, 'operation': '+', 'finalNumber': 3}\n",
      "{'number1': 1, 'number2': 2, 'operation': '-', 'finalNumber': -1}\n"
     ]
    }
   ],
   "source": [
    "result = app.invoke({'number1':1,'number2':2,'operation':'+'})\n",
    "\n",
    "print(result)\n",
    "\n",
    "\n",
    "result = app.invoke({'number1':1,'number2':2,'operation':'-'})\n",
    "\n",
    "print(result)"
   ]
  }
 ],
 "metadata": {
  "kernelspec": {
   "display_name": ".venv",
   "language": "python",
   "name": "python3"
  },
  "language_info": {
   "codemirror_mode": {
    "name": "ipython",
    "version": 3
   },
   "file_extension": ".py",
   "mimetype": "text/x-python",
   "name": "python",
   "nbconvert_exporter": "python",
   "pygments_lexer": "ipython3",
   "version": "3.12.1"
  }
 },
 "nbformat": 4,
 "nbformat_minor": 5
}
