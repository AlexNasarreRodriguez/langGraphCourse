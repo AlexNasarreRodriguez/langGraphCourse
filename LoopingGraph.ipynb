{
 "cells": [
  {
   "cell_type": "code",
   "execution_count": 111,
   "id": "1f80d75c",
   "metadata": {},
   "outputs": [],
   "source": [
    "from typing import List, TypedDict\n",
    "from langgraph.graph import StateGraph,START,END\n",
    "import random\n",
    "\n",
    "class AgentState(TypedDict):\n",
    "    name: str\n",
    "    number: List[int]\n",
    "    counter: int\n",
    "    "
   ]
  },
  {
   "cell_type": "code",
   "execution_count": 112,
   "id": "c44118dc",
   "metadata": {},
   "outputs": [],
   "source": [
    "def greeting_node(state: AgentState) -> AgentState:\n",
    "    state['name'] = 'hola ' + state['name'] + ', que tal?'\n",
    "    state['counter'] = 0\n",
    "    state['number'] = []\n",
    "    return state\n",
    "\n",
    "def random_node(state: AgentState) -> AgentState:\n",
    "    state['number'].append(random.randint(0,10))\n",
    "    state['counter'] += 1\n",
    "    \n",
    "    return state\n",
    "\n",
    "def router_random_node(state: AgentState):\n",
    "    if state['counter'] < 5:\n",
    "        print(f'vuelta: {state['counter']}')\n",
    "        print(state['number'])\n",
    "        return 'repeat'\n",
    "    else:\n",
    "        return 'end'\n",
    "    "
   ]
  },
  {
   "cell_type": "code",
   "execution_count": 113,
   "id": "86e57165",
   "metadata": {},
   "outputs": [
    {
     "data": {
      "image/png": "[encoded data removed]",
      "text/plain": [
       "<langgraph.graph.state.CompiledStateGraph object at 0x00000133835FD8E0>"
      ]
     },
     "execution_count": 113,
     "metadata": {},
     "output_type": "execute_result"
    }
   ],
   "source": [
    "graph = StateGraph(AgentState)\n",
    "\n",
    "graph.add_node('greeting', greeting_node)\n",
    "graph.add_node('random', random_node)\n",
    "\n",
    "graph.add_edge(START, 'greeting')\n",
    "graph.add_edge('greeting', 'random')\n",
    "graph.add_conditional_edges('random',\n",
    "                            router_random_node,\n",
    "                            {'repeat':'random', 'end':END})\n",
    "\n",
    "\n",
    "app = graph.compile()\n",
    "app"
   ]
  },
  {
   "cell_type": "code",
   "execution_count": 114,
   "id": "9620291b",
   "metadata": {},
   "outputs": [
    {
     "name": "stdout",
     "output_type": "stream",
     "text": [
      "vuelta: 1\n",
      "[2]\n",
      "vuelta: 2\n",
      "[2, 6]\n",
      "vuelta: 3\n",
      "[2, 6, 7]\n",
      "vuelta: 4\n",
      "[2, 6, 7, 3]\n"
     ]
    },
    {
     "data": {
      "text/plain": [
       "{'name': 'hola Alex, que tal?', 'number': [2, 6, 7, 3, 5], 'counter': 5}"
      ]
     },
     "execution_count": 114,
     "metadata": {},
     "output_type": "execute_result"
    }
   ],
   "source": [
    "app.invoke({'name':'Alex'})"
   ]
  }
 ],
 "metadata": {
  "kernelspec": {
   "display_name": ".venv",
   "language": "python",
   "name": "python3"
  },
  "language_info": {
   "codemirror_mode": {
    "name": "ipython",
    "version": 3
   },
   "file_extension": ".py",
   "mimetype": "text/x-python",
   "name": "python",
   "nbconvert_exporter": "python",
   "pygments_lexer": "ipython3",
   "version": "3.12.1"
  }
 },
 "nbformat": 4,
 "nbformat_minor": 5
}
