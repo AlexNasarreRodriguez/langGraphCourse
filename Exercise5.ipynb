{
 "cells": [
  {
   "cell_type": "code",
   "execution_count": 23,
   "id": "10f3bcd5",
   "metadata": {},
   "outputs": [],
   "source": [
    "from typing import List,TypedDict\n",
    "from langgraph.graph import StateGraph, START, END\n",
    "import random\n",
    "\n",
    "\n",
    "class AgentState(TypedDict): #state schema\n",
    "    name: str\n",
    "    guesses: List[int]\n",
    "    attempts: int\n",
    "    lower_bound: int\n",
    "    upper_bound: int\n",
    "    guess_number: int\n",
    "    current_guess: int\n",
    "    "
   ]
  },
  {
   "cell_type": "code",
   "execution_count": 24,
   "id": "c28d0254",
   "metadata": {},
   "outputs": [],
   "source": [
    "def setup_node(state: AgentState) -> AgentState:\n",
    "\n",
    "    state['guesses'] = []\n",
    "    state['attempts'] = 0\n",
    "    state['lower_bound'] = 0\n",
    "    state['upper_bound'] = 20\n",
    "    state['guess_number'] = random.randint(state['lower_bound'],state['upper_bound'])\n",
    "    state['current_guess'] = -1\n",
    "    \n",
    "    print (f\"El numero a adivinar es {state['guess_number']}\")\n",
    "    \n",
    "    return state\n",
    "\n",
    "def guess_node(state: AgentState) -> AgentState:\n",
    "    state['attempts'] += 1\n",
    "    state['current_guess'] = random.randint(state['lower_bound'],state['upper_bound'])\n",
    "    state['guesses'].append(state['current_guess'])\n",
    "    return state\n",
    "\n",
    "def hint_node(state: AgentState) -> AgentState:\n",
    "\n",
    "    if state['current_guess'] == state['guess_number']:\n",
    "        print(f\"El numero es {state['current_guess']}, GANASTE\")\n",
    "        return state\n",
    "    elif state['attempts'] == 7:\n",
    "        print(f\"El numero era {state['guess_number']}, PERDISTE\")\n",
    "        return state\n",
    "    elif state['current_guess'] < state['guess_number']:\n",
    "        print(f\"El numero es mayor que {state['current_guess']}\")\n",
    "        state['lower_bound'] = state['current_guess']\n",
    "        return state\n",
    "    else :\n",
    "        print(f\"El numero es menor que {state['current_guess']}\")\n",
    "        state['upper_bound'] = state['current_guess']\n",
    "        return state\n",
    "\n",
    "    \n",
    "\n",
    "def router_hint_node(state: AgentState):\n",
    "    \n",
    "    if state['current_guess'] == state['guess_number'] or state['attempts'] == 7:\n",
    "        return 'end'\n",
    "    else :\n",
    "        return 'repeat'\n",
    "    \n",
    "    \n"
   ]
  },
  {
   "cell_type": "code",
   "execution_count": 25,
   "id": "d984dcd8",
   "metadata": {},
   "outputs": [
    {
     "data": {
      "image/png": "[encoded data removed]",
      "text/plain": [
       "<langgraph.graph.state.CompiledStateGraph object at 0x0000023209E19A60>"
      ]
     },
     "execution_count": 25,
     "metadata": {},
     "output_type": "execute_result"
    }
   ],
   "source": [
    "graph = StateGraph(AgentState)\n",
    "\n",
    "graph.add_node('setup', setup_node)\n",
    "graph.add_node('guess', guess_node)\n",
    "graph.add_node('hint', hint_node)\n",
    "\n",
    "graph.add_edge(START, 'setup')\n",
    "graph.add_edge('setup', 'guess')\n",
    "graph.add_edge('guess', 'hint')\n",
    "graph.add_conditional_edges('hint',router_hint_node ,{'repeat': 'guess', 'end': END})\n",
    "\n",
    "app = graph.compile()\n",
    "\n",
    "app\n"
   ]
  },
  {
   "cell_type": "code",
   "execution_count": 26,
   "id": "56beefe3",
   "metadata": {},
   "outputs": [
    {
     "name": "stdout",
     "output_type": "stream",
     "text": [
      "El numero a adivinar es 9\n",
      "El numero es mayor que 1\n",
      "El numero es 9, GANASTE\n"
     ]
    },
    {
     "data": {
      "text/plain": [
       "{'name': 'Alejandro',\n",
       " 'guesses': [1, 9],\n",
       " 'attempts': 2,\n",
       " 'lower_bound': 1,\n",
       " 'upper_bound': 20,\n",
       " 'guess_number': 9,\n",
       " 'current_guess': 9}"
      ]
     },
     "execution_count": 26,
     "metadata": {},
     "output_type": "execute_result"
    }
   ],
   "source": [
    "app.invoke({'name': 'Alejandro'})"
   ]
  }
 ],
 "metadata": {
  "kernelspec": {
   "display_name": ".venv",
   "language": "python",
   "name": "python3"
  },
  "language_info": {
   "codemirror_mode": {
    "name": "ipython",
    "version": 3
   },
   "file_extension": ".py",
   "mimetype": "text/x-python",
   "name": "python",
   "nbconvert_exporter": "python",
   "pygments_lexer": "ipython3",
   "version": "3.12.1"
  }
 },
 "nbformat": 4,
 "nbformat_minor": 5
}
